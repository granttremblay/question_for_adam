{
 "cells": [
  {
   "cell_type": "markdown",
   "metadata": {},
   "source": [
    "# Analyzing the LBT Optical Spectrum of PKS 1017\n",
    "\n",
    "This data was kindly reduced by Barry Rothberg (LBT), who obtained the spectrum for us \"informally\" (i.e. out of the normal proposal cycle, albeit with the LBT Director's permission). "
   ]
  },
  {
   "cell_type": "markdown",
   "metadata": {},
   "source": [
    "### About the data\n",
    "\n",
    "In this directory you'll find\n",
    "\n",
    "* A reduced 1D spectrum that has been flux calibrated and corrected for heliocentric velocity\n",
    "* The same 1D spectrum that has also been de-reddened for galactic extinction, using $R_V=3.1$ and $A_V=0.129$,  based on Schlafly and Finkbeiner values in NED.\n",
    "\n",
    "This optical spectrum, running from 0.38-0.928 microns, was obtained with the Large Binocular Telescope on 11 January 2017. The instrument used was MODS-2 in dual grating mode.  Only one mirror (DX or right side) was used, so you only got 1 x 8.4m. The target, low in elevation, was observed for 1200 seconds at an average airmass of $\\sim2.4$. The slit width was 1.2\", and the average seeing was 2\" throughout the observation. We used a 2\" diameter extraction aperture along the spatial axis.  However, since the slitwidth was smaller than this (1.2\"), the actual spectral resolution is 7 angstroms (I measured 3.5 angstroms in the red using a 0.6\" slitwidth and the arc lamps. Since it scales, then it will be a spectral resolution of 7 angstroms).  We might want resample from 0.85 ang/pixel to 7 ang/pixel. \n",
    "\n",
    "Final spectra runs from 0.38-0.928microns.\n",
    "Also included are the 2D bkgd subtracted (not flux calibrated) spectra so you can see what the exposure looks like and verify that the emission lines you see are real.  I was surprised but we detected TWO emission lines in the blue.\n",
    "\n",
    "Let me know if you need a writeup of the data reduction process. I've not attempted to measure a redshift though.\n",
    "\n",
    "The Galactic extinction correction is Rv=3.1 and Av=0.129 based on Schlafly and Finkbeiner values in NED.\n",
    "\n",
    "\n"
   ]
  },
  {
   "cell_type": "markdown",
   "metadata": {},
   "source": [
    "### Setup"
   ]
  },
  {
   "cell_type": "code",
   "execution_count": 1,
   "metadata": {
    "collapsed": false
   },
   "outputs": [],
   "source": [
    "import sys\n",
    "import os\n",
    "import glob\n",
    "\n",
    "import numpy as np\n",
    "\n",
    "from astropy.io import fits\n",
    "from astropy.io import ascii\n",
    "from astropy.table import QTable\n",
    "\n",
    "from astropy.cosmology import FlatLambdaCDM\n",
    "\n",
    "import astropy.units as u\n",
    "\n",
    "import pyspeckit\n",
    "\n",
    "import matplotlib as mpl\n",
    "import matplotlib.pyplot as plt\n",
    "import matplotlib.style as style\n",
    "%matplotlib inline"
   ]
  },
  {
   "cell_type": "markdown",
   "metadata": {},
   "source": [
    "Make a Cosmology"
   ]
  },
  {
   "cell_type": "code",
   "execution_count": 2,
   "metadata": {
    "collapsed": true
   },
   "outputs": [],
   "source": [
    "cosmo = FlatLambdaCDM(H0=70, Om0=0.3)"
   ]
  },
  {
   "cell_type": "markdown",
   "metadata": {},
   "source": [
    "Make plots pretty"
   ]
  },
  {
   "cell_type": "code",
   "execution_count": 3,
   "metadata": {
    "collapsed": true
   },
   "outputs": [],
   "source": [
    "plt.rcParams.update({'font.size'     : 12,\n",
    "                    'axes.labelsize' : 12,\n",
    "                    'legend.fontsize': 12,\n",
    "                    'xtick.labelsize': 12,\n",
    "                    'ytick.labelsize': 12,\n",
    "                    'axes.linewidth' :  1.5  })\n",
    "style.use('ggplot')"
   ]
  },
  {
   "cell_type": "markdown",
   "metadata": {},
   "source": [
    "### Initial Exploration of the Data"
   ]
  },
  {
   "cell_type": "code",
   "execution_count": 4,
   "metadata": {
    "collapsed": false
   },
   "outputs": [
    {
     "data": {
      "text/plain": [
       "['.git',\n",
       " '.ipynb_checkpoints',\n",
       " 'adam_debugging.ipynb',\n",
       " 'PKS1017-325_error_heliocorrect_galextinct.fits',\n",
       " 'PKS1017-325_heliocorrect_galextinct.fits',\n",
       " 'PKS1017_Analysis.ipynb',\n",
       " 'test_script.py']"
      ]
     },
     "execution_count": 4,
     "metadata": {},
     "output_type": "execute_result"
    }
   ],
   "source": [
    "os.listdir('.')"
   ]
  },
  {
   "cell_type": "code",
   "execution_count": 5,
   "metadata": {
    "collapsed": false
   },
   "outputs": [],
   "source": [
    "datafile = fits.open('PKS1017-325_heliocorrect_galextinct.fits')"
   ]
  },
  {
   "cell_type": "code",
   "execution_count": 6,
   "metadata": {
    "collapsed": false
   },
   "outputs": [
    {
     "name": "stdout",
     "output_type": "stream",
     "text": [
      "Filename: PKS1017-325_heliocorrect_galextinct.fits\n",
      "No.    Name         Type      Cards   Dimensions   Format\n",
      "  0  PRIMARY     PrimaryHDU     287   (6453,)   float32   \n"
     ]
    }
   ],
   "source": [
    "datafile.info()"
   ]
  },
  {
   "cell_type": "code",
   "execution_count": 7,
   "metadata": {
    "collapsed": false
   },
   "outputs": [
    {
     "data": {
      "text/plain": [
       "SIMPLE  =                    T / Fits standard                                  \n",
       "BITPIX  =                  -32 / Bits per pixel                                 \n",
       "NAXIS   =                    1 / Number of axes                                 \n",
       "NAXIS1  =                 6453 / Axis length                                    \n",
       "EXTEND  =                    F / File may contain extensions                    \n",
       "ORIGIN  = 'NOAO-IRAF FITS Image Kernel July 2003' / FITS file originator        \n",
       "DATE    = '2017-01-21T08:38:04' / Date FITS file was generated                  \n",
       "IRAF-TLM= '2017-01-21T08:38:04' / Time of last modification                     \n",
       "OBJECT  = 'PKS1017-325 - Aperture 1' / Name of the object observed              \n",
       "BUNIT   = 'erg/cm2/s/A'        / units of physical values (LBT)                 \n",
       "COMMENT  Detector Information                                                   \n",
       "DETECTOR= 'e2v CCD231-68 Blue CCD 2'     / Detector name                        \n",
       "DETSIZE = '[1:8288,1:3088]'       / Unbinned size of detector full array        \n",
       "NAMPS   =                    4 / Number of amplifiers in the detector           \n",
       "GAINDL  =                    3 / Pixel integration time, in sequencer clocks    \n",
       "PIXITIME=            1.2000E-6 / Pixel integration time, in seconds             \n",
       "CCDXBIN =                    1 / CCD X-axis Binning Factor                      \n",
       "CCDYBIN =                    1 / CCD Y-axis Binning Factor                      \n",
       "OVERSCNX=                    0 /                                                \n",
       "OVERSCNY=                    0 /                                                \n",
       "READOUT = 'ARLBRL  '           / Amplifiers used in readout                     \n",
       "PIXSCALE=                0.120 / Unbinned pixel scale [arcsec per pixel]        \n",
       "PIXSIZE =                 15.0 / Unbinned pixel size [microns]                  \n",
       "COMMENT  Observatory Information                                                \n",
       "OBSERVAT= 'MGIO-LBT'           / Observatory Site                               \n",
       "TELESCOP= 'LBT-DX  '           / Telescope and Focus                            \n",
       "FOCSCALE=                 1.67 / Focal Plane Scale [arcsec per mm]              \n",
       "LATITUDE=             32.70131 / Site Latitude [deg N]                          \n",
       "LONGITUD=            109.88906 / Site Longitude [deg W]                         \n",
       "ELEVATIO=               3221.0 / Site Elevation [meters]                        \n",
       "OBSERVER= 'Rothberg,Conrad'    / Observer(s)                                    \n",
       "PARTNER = 'LBTO    '           / LBT Project Partner(s)                         \n",
       "PROPID  = 'Rothberg_DDT_2016B' / Observing Proposal ID                          \n",
       "PI_NAME = 'Rothberg'           / Project PI Name(s)                             \n",
       "SUPPORT = 'Rothberg'           / LBT Support Scientist(s)                       \n",
       "TELOPS  = 'G.Bechetti'         / LBT Telescope Operator(s)                      \n",
       "COMMENT  Exposure Information                                                   \n",
       "GROUP   =                    0 / Group identifier for related images            \n",
       "IMAGETYP= 'OBJECT  '           / Type of observation                            \n",
       "EXPTIME =               1200.0 / Exposure time [seconds]                        \n",
       "DARKTIME=              1203.47 / Cumulative Dark Time [seconds]                 \n",
       "LEDFLASH=            0.0000E+0 / Time to flash lab LEDs [seconds]               \n",
       "FILENAME= 'mods2b.20170111.0017' / Filename assigned by the data-taking system  \n",
       "UNIQNAME= '161203M8.0ab'       / Unique filename; if filename is invalid        \n",
       "ACQTAG  = 'MODS2B.20170111103728' / Unique Acquisition ID Tag                   \n",
       "CCDROI  = '[1:8288,1:3088]'    /                                                \n",
       "COMMENT  Instrument Configuration                                               \n",
       "INSTRUME= 'MODS2B  '           / Instrument Name                                \n",
       "HATCH   = 'OPEN    '           / Instrument Dark Hatch                          \n",
       "CALIB   = 'OUT     '           / Calibration Tower Position                     \n",
       "CALLAMPS= 'None    '           / Calibration Lamps                              \n",
       "VFLAT   =                  4.0 / Variable Intensity Flat Lamp Intensity         \n",
       "SLITMASK=                    8 / Slit Mask Cassette position                    \n",
       "MASKPOS = 'IN      '           / Slit Mask Position                             \n",
       "MASKNAME= 'LS5x60x1.2'         / Slit Mask Name                                 \n",
       "MASKINFO= '1.2 arcsec Segmented Long Slit' / Slit Mask Description              \n",
       "DICHROIC=                    2 / Dichroic Turret Position                       \n",
       "DICHNAME= 'Dual    '           / Dichroic Beam Selector position ID             \n",
       "DICHINFO= 'CSIRO 575nm Dichroic Nr2' / Dichroic Beam Selector Description       \n",
       "COMMENT  Spectrograph Channel Configuration                                     \n",
       "CHANNEL = 'BLUE    '           / Channel name, Blue or Red                      \n",
       "COLFOCUS=                24439 / Collimator Focus (A+B+C) [microns]             \n",
       "COLTTFA =                26145 / Collimator TTF actuator A [microns]            \n",
       "COLTTFB =                19832 / Collimator TTF actuator B [microns]            \n",
       "COLTTFC =                27339 / Collimator TTF actuator C [microns]            \n",
       "GRATING =                    2 / Grating Turret Position                        \n",
       "GRATNAME= 'G400L   '           / Name of the Disperser at GRATING               \n",
       "GRATINFO= '400l/mm Blue Grating RGL MR162-2-6-1' / Description of the Disperser \n",
       "GRATTILT=                23459 / Grating Tilt [microns]                         \n",
       "GRCENLAM= '        '           / Grating nominal central wavelength [Ang]       \n",
       "GRORDER =                    0 / Grating order used                             \n",
       "FILTER  =                    1 / Camera Filter Wheel Position                   \n",
       "FILTNAME= 'Clear   '           / Camera Filter Name                             \n",
       "FILTINFO= 'Fused Silica Clear 128x86x6mm Nr2' / Camera Filter Description       \n",
       "CAMFOCUS=                 1600 / Camera Primary Mirror Focus [microns]          \n",
       "COMMENT  IMCS IR Reference Laser Status                                         \n",
       "IRLASER = 'ON      '           / IMCS IR Laser AC Power On or Off               \n",
       "IRBEAM  = 'ENABLED '           / IMCS IR Laser Beam Enabled or Disabled         \n",
       "IRPSET  =                  1.5 / IMCS IR Laser Beam Power Set Point [mW]        \n",
       "IRPOUT  =                  1.5 / IMCS IR Laser Beam Power Output [mW]           \n",
       "IRTEMP  =                 25.3 / IMCS IR Laser Head Temperature [deg C]         \n",
       "IRTSET  =                 25.3 / IMCS IR Laser Head Temp Set Point [deg C]      \n",
       "COMMENT  Target and Guide Star Coordinates                                      \n",
       "OBJNAME = 'PKS1017-325'        / Target Name                                    \n",
       "OBJRA   = '10:20:11.6'         / Target RA                                      \n",
       "OBJDEC  = '-32:45:35'          / Target DEC                                     \n",
       "OBJRADEC= 'FK5'                / Target Coordinate System                       \n",
       "OBJEQUIN= 'J2000'              / Target Coordinate System Equinox               \n",
       "OBJPMRA =                 0.00 / Target RA proper motion [mas per yr]           \n",
       "OBJPMDEC=                 0.00 / Target Dec proper motion [mas per yr]          \n",
       "OBJEPOCH=              2000.00 / Target Epoch                                   \n",
       "GUINAME = 'NOMAD1 0571-0315809' / Guide Star Name                               \n",
       "GUIRA   = '10:20:18.16'        / Guide Star RA                                  \n",
       "GUIDEC  = '-32:48:44.23'       / Guide Star DEC                                 \n",
       "GUIRADEC= 'FK5'                / Guide Star Coordinate System                   \n",
       "GUIEQUIN= 'J2000'              / Guide Star Coord System Equinox                \n",
       "GUIPMRA =                 0.00 / Guide Star RA proper motion [mas per yr]       \n",
       "GUIPMDEC=                 0.00 / Guide Star Dec proper motion [mas per yr]      \n",
       "GUIEPOCH=              2000.00 / Guide Star Epoch                               \n",
       "COMMENT  Telescope and TCS Information                                          \n",
       "TCSLINK = 'Live    '           / TCS Communications Link Status                 \n",
       "DATE-OBS= '2017-01-11T10:37:49.357' / UTC Date at start of obs                  \n",
       "UTC-OBS = '10:37:49.357'       / UTC Time at start of obs                       \n",
       "TIMESYS = 'UTC     '           / Time System                                    \n",
       "LST-OBS = '10:42:47.421'       / Local Siderial Time at start of obs            \n",
       "MJD-OBS =         57764.442932 / Modified JD=JD-2400000.5 at start of obs       \n",
       "RADECSYS= 'FK5     '           / Coordinate System                              \n",
       "EQUINOX =               2000.0 / Equinox of coordinates                         \n",
       "TELRA   = '10:20:11.602'       / Telescope RA                                   \n",
       "TELDEC  = '-32:45:34.996'      / Telescope DEC                                  \n",
       "POSANGLE=              0.00000 / Instrument Celestial Position Angle [deg]      \n",
       "TELALT  =             24.26659 / Telescope Altitude at start of obs [deg]       \n",
       "TELAZ   =            184.88756 / Telescope Azimuth at start of obs [deg]        \n",
       "PARANGLE=              5.21545 / Parallactic Angle at start of obs [deg]        \n",
       "ROTANGLE=           -147.46917 / Rotator Angle at start of obs [deg]            \n",
       "ROTMODE = 'POSITION'           / Rotator Mode                                   \n",
       "HA      = '00:21:58.064'       / Hour Angle at start of obs                     \n",
       "ZD      =                65.73 / Zenith Distance at start of obs [deg]          \n",
       "AIRMASS =             2.449478 / Airmass (secZD) at start of obs                \n",
       "COMMENT  Acquisition Guide and WFS System Configuration                         \n",
       "AGWXGP  =               69.991 / AGW Guide Probe X focal plane position [mm]    \n",
       "AGWYGP  =             -100.176 / AGW Guide Probe Y focal plane position [mm]    \n",
       "AGWFOCUS=                0.000 / AGW Guide Probe relative focus [mm]            \n",
       "AGWFILT =                    1 / Guide Camera Filter Wheel position             \n",
       "AGWFNAME= 'Clear   '           / Guide Camera Filter Name                       \n",
       "AGWFINFO= 'Edmund Clear FuSi 50x5mm' / Guide Camera Filter Description          \n",
       "AGWXS   =              161.301 / AGW Stage X actuator position [mm]             \n",
       "AGWYS   =               94.684 / AGW Stage Y actuator position [mm]             \n",
       "AGWFS   =               46.604 / AGW Stage Focus actuator position [mm]         \n",
       "AGWFS0  =               39.504 / AGW Stage Focus Zero Point [mm]                \n",
       "AGWXWFS =               69.991 / AGW WFS Pickoff X focal plane position [mm]    \n",
       "AGWYWFS =             -100.176 / AGW WFS Pickoff Y focal plane position [mm]    \n",
       "COMMENT  Blue CCD Head Electronics Box Sensor Data                              \n",
       "HSTEMP  =                 1.10 / HEB Post Heat Sink Air Temperature [deg C]     \n",
       "CTEMPIN =                 1.27 / HEB Coolant Input Temperature [deg C]          \n",
       "CTEMPOUT=                 1.96 / HEB Coolant Output Temperature [deg C]         \n",
       "TEDPOWER= 'ON      '           / HEB Thermoelectric Device Power State          \n",
       "LEDPOWER= 'OFF     '           / HEB External LED Power State                   \n",
       "IGPOWER = 'ON      '           / Dewar Vacuum Ion Gauge Power State             \n",
       "HEB3V   =                 3.29 / HEB +3V Power Supply [VDC]                     \n",
       "HEBFANV =                11.69 / HEB Fan Power Supply [VDC]                     \n",
       "HEB15V  =               -15.08 / HEB -15V Power Supply [VDC]                    \n",
       "HEB5V   =                 4.98 / HEB +5V Power Supply [VDC]                     \n",
       "HEB24V  =                23.82 / HEB +24V Power Supply [VDC]                    \n",
       "BOGHTRV =                 1.01 / Dewar boil-off gas heater voltage              \n",
       "COMMENT  Instrument Temperature Sensor Data                                     \n",
       "AMBTEMP =                  1.9 / Outside Ambient Air Temperature [deg C]        \n",
       "TAIRTOP =                  1.6 / MODS Inside Air Temp at Top [deg C]            \n",
       "TAIRBOT =                  0.5 / MODS Inside Air Temp at Bottom [deg C]         \n",
       "TCOLLTOP=                  2.5 / Collimator Truss Tube Top Temp [deg C]         \n",
       "TCOLLBOT=                -54.8 / Collimator Truss Tube Bottom Temp [deg C]      \n",
       "IEBTEMPB=                  4.0 / Blue IEB Air Temperature [deg C]               \n",
       "IEBGRT_B=                  0.6 / Blue IEB Glycol Return Temperature [deg C]     \n",
       "IEBTEMPR=                  4.9 / Red IEB Air Temperature [deg C]                \n",
       "IEBGRT_R=                  1.0 / Red IEB Glycol Return Temperature [deg C]      \n",
       "IUBTAIR =                -24.2 / Utility Box Air Temperature [deg C]            \n",
       "AGHSTEMP=                  6.6 / AGw Controller Heat Sink Temp [deg C]          \n",
       "COMMENT  Instrument Glycol Cooling In-Line Sensor Data                          \n",
       "GSPRES  =                100.0 / Glycol Supply Pressure [psi-g]                 \n",
       "GSTEMP  =                  0.3 / Glycol Supply Temperature [deg C]              \n",
       "GRPRES  =                 35.1 / Glycol Return Pressure [psi-g]                 \n",
       "GRTEMP  =                  3.6 / Glycol Return Temperature [deg C]              \n",
       "COMMENT  LBT Telescope Collimation State                                        \n",
       "M1POSX  =               -0.933 / Primary Mirror X Position                      \n",
       "M1POSY  =                0.712 / Primary Mirror Y Position                      \n",
       "M1POSZ  =               -0.111 / Primary Mirror Z Position                      \n",
       "M1ROTX  =              -41.678 / Primary Mirror X Rotation                      \n",
       "M1ROTY  =              -53.044 / Primary Mirror Y Rotation                      \n",
       "M1ROTZ  =                0.000 / Primary Mirror Z Rotation                      \n",
       "M1CTEMP =                 0.64 / Primary Mirror Temperature [deg C]             \n",
       "M2POSX  =               -2.217 / Secondary Mirror X Position                    \n",
       "M2POSY  =                0.434 / Secondary Mirror Y Position                    \n",
       "M2POSZ  =               -1.572 / Secondary Mirror Z Position                    \n",
       "M2ROTX  =             -735.477 / Secondary Mirror X Rotation                    \n",
       "M2ROTY  =              -40.561 / Secondary Mirror X Rotation                    \n",
       "M2ROTZ  =                0.000 / Secondary Mirror X Rotation                    \n",
       "M2CTEMP =                 0.64 / Secondary Mirror Temperature [deg C]           \n",
       "COMMENT  LBT Telescope Temperature Sensor Data                                  \n",
       "TTEMP201=                0.857 / Channel 201 Temperature [deg C]                \n",
       "TTEMP202=                0.971 / Channel 202 Temperature [deg C]                \n",
       "TTEMP203=                0.701 / Channel 203 Temperature [deg C]                \n",
       "TTEMP204=                0.808 / Channel 204 Temperature [deg C]                \n",
       "TTEMP205=                0.914 / Channel 205 Temperature [deg C]                \n",
       "TTEMP206=                1.146 / Channel 206 Temperature [deg C]                \n",
       "TTEMP207=                0.733 / Channel 207 Temperature [deg C]                \n",
       "TTEMP208=                0.689 / Channel 208 Temperature [deg C]                \n",
       "TTEMP209=                0.799 / Channel 209 Temperature [deg C]                \n",
       "TTEMP210=                1.078 / Channel 210 Temperature [deg C]                \n",
       "TTEMP301=                0.639 / Channel 301 Temperature [deg C]                \n",
       "TTEMP302=                0.618 / Channel 302 Temperature [deg C]                \n",
       "TTEMP303=                0.706 / Channel 303 Temperature [deg C]                \n",
       "TTEMP304=                1.184 / Channel 304 Temperature [deg C]                \n",
       "TTEMP305=                0.826 / Channel 305 Temperature [deg C]                \n",
       "TTEMP306=                0.676 / Channel 306 Temperature [deg C]                \n",
       "TTEMP307=                0.879 / Channel 307 Temperature [deg C]                \n",
       "TTEMP308=                0.602 / Channel 308 Temperature [deg C]                \n",
       "TTEMP309=                0.742 / Channel 309 Temperature [deg C]                \n",
       "TTEMP310=                0.402 / Channel 310 Temperature [deg C]                \n",
       "COMMENT  LBT Weather Station Information                                        \n",
       "LBTWLINK= 'Up      '           / LBT Weather Station Link State                 \n",
       "LBTPRES =               687.50 / LBT Ambient Pressure [hPa]                     \n",
       "LBTTEMP =                 0.80 / LBT Ambient Temperature [deg C]                \n",
       "LBTHUM  =                 8.10 / LBT Relative Humidity [percent]                \n",
       "LBTDWPT =               -29.70 / LBT Dew Point [deg C]                          \n",
       "COMMENT                                                                         \n",
       "GSDELTAY=               -0.778 /                                                \n",
       "GSDELTAX=               -0.184 /                                                \n",
       "GSMEAS_Y=                0.000 /                                                \n",
       "GSMEAS_X=                0.000 /                                                \n",
       "GSPRED_Y=             -100.827 /                                                \n",
       "GSPRED_X=              -71.455 /                                                \n",
       "GPACT_Y =             -100.831 /                                                \n",
       "GPACT_X =              -71.452 /                                                \n",
       "GPREQ_Y =             -100.826 /                                                \n",
       "GPREQ_X =              -71.457 /                                                \n",
       "M1ATEMP =                 0.76 /                                                \n",
       "RDGROT  =            212.52969 /                                                \n",
       "BIASPROC= 'biasSingle'         / Overscan subtracted by modsProc.py             \n",
       "BIASQ1E =                432.5 / Bias subtracted from Q1E                       \n",
       "BIASQ1O =                434.0 / Bias subtracted from Q1O                       \n",
       "BIASQ3E =                384.5 / Bias subtracted from Q3E                       \n",
       "BIASQ3O =                433.0 / Bias subtracted from Q3O                       \n",
       "BIASQ2E =                367.0 / Bias subtracted from Q2E                       \n",
       "BIASQ2O =                319.0 / Bias subtracted from Q2O                       \n",
       "BIASQ4E =                304.5 / Bias subtracted from Q4E                       \n",
       "BIASQ4O =                305.0 / Bias subtracted from Q4O                       \n",
       "FLATPROC= 'bpixFlat.fits'      / Flat field image                               \n",
       "BPLFILE = '/usr/local/LBT/modsCCDRed/database/mods2b.bpl'                       \n",
       "BPWIDTH =                    5 / Bad pixel averaging region width [pixels]      \n",
       "HISTORY modsProc v0.5.2 2012-04-01                                              \n",
       "HISTORY modsProc - divided by flat field                                        \n",
       "HISTORY modsProc - fixing bad pixels                                            \n",
       "APNUM1  = '1 1 330.70 347.30'                                                   \n",
       "WCSDIM  =                    1                                                  \n",
       "CTYPE1  = 'LINEAR  '                                                            \n",
       "CRVAL1  =     3800.26086938278                                                  \n",
       "CRPIX1  =                   1.                                                  \n",
       "CD1_1   =    0.850058352361939                                                  \n",
       "LTM1_1  =                   1.                                                  \n",
       "WAT0_001= 'system=equispec'                                                     \n",
       "WAT1_001= 'wtype=linear label=Wavelength units=Angstroms'                       \n",
       "DCLOG1  = 'Transform'                                                           \n",
       "DC-FLAG =                    0                                                  \n",
       "UTMIDDLE= '2017-01-11T10:47:49.36'                                              \n",
       "EX-FLAG =                    0                                                  \n",
       "CA-FLAG =                    0                                                  \n",
       "BANDID1 = 'spectrum - background fit, weights variance, clean yes'              \n",
       "BANDID2 = 'raw - background fit, weights none, clean no'                        \n",
       "BANDID3 = 'background - background fit'                                         \n",
       "BANDID4 = 'sigma - background fit, weights variance, clean yes'                 \n",
       "CDELT1  =    0.850058352361939                                                  \n",
       "NCOMBINE=                    2                                                  \n",
       "HJD     =             2457765.                                                  \n",
       "VHELIO  =                20.58                                                  \n",
       "VLSR    =                  8.8                                                  \n",
       "VSUN    = '20.    18.    30.  1900.'                                            \n",
       "DOPCOR01= '  -20.58 all'                                                        \n",
       "DEREDDEN= 'Jan 21  1:38 A(V)=0.129 R=3.1'                                       \n",
       "                                                                                \n",
       "                                                                                \n",
       "                                                                                \n",
       "                                                                                \n",
       "                                                                                \n",
       "                                                                                \n",
       "                                                                                \n",
       "                                                                                \n",
       "                                                                                \n",
       "                                                                                \n",
       "                                                                                \n",
       "                                                                                \n",
       "                                                                                \n",
       "                                                                                \n",
       "                                                                                \n",
       "                                                                                \n",
       "                                                                                \n",
       "                                                                                \n",
       "                                                                                \n",
       "                                                                                \n",
       "                                                                                \n",
       "                                                                                \n",
       "                                                                                \n",
       "                                                                                \n",
       "                                                                                \n",
       "                                                                                \n",
       "                                                                                \n",
       "                                                                                \n",
       "                                                                                "
      ]
     },
     "execution_count": 7,
     "metadata": {},
     "output_type": "execute_result"
    }
   ],
   "source": [
    "datafile[0].header"
   ]
  },
  {
   "cell_type": "markdown",
   "metadata": {
    "collapsed": true
   },
   "source": [
    "### Populate the Wavelength, Flux, and Error Arrays\n"
   ]
  },
  {
   "cell_type": "markdown",
   "metadata": {},
   "source": [
    "The wavelength will go as\n",
    "\n",
    "```python\n",
    "wavelength = ((np.arange(N) + 1.0) - CRPIX1) * CD1_1 + CRVAL1 ```"
   ]
  },
  {
   "cell_type": "code",
   "execution_count": 8,
   "metadata": {
    "collapsed": false
   },
   "outputs": [],
   "source": [
    "n = len(datafile[0].data)\n",
    "crpix1 = datafile[0].header['CRPIX1']\n",
    "crval1 = datafile[0].header['CRVAL1']\n",
    "cd1_1 = datafile[0].header['CD1_1'] # The data have been resampled to 0.85 angstroms / pixel"
   ]
  },
  {
   "cell_type": "code",
   "execution_count": 9,
   "metadata": {
    "collapsed": true
   },
   "outputs": [],
   "source": [
    "wavelength = ((np.arange(n) + 1.0) - crpix1) * cd1_1 + crval1"
   ]
  },
  {
   "cell_type": "markdown",
   "metadata": {},
   "source": [
    "Check that this is correct: "
   ]
  },
  {
   "cell_type": "code",
   "execution_count": 10,
   "metadata": {
    "collapsed": false
   },
   "outputs": [
    {
     "data": {
      "text/plain": [
       "array([ 3800.26086938,  3801.11092774,  3801.96098609, ...,  9283.13724212,\n",
       "        9283.98730047,  9284.83735882])"
      ]
     },
     "execution_count": 10,
     "metadata": {},
     "output_type": "execute_result"
    }
   ],
   "source": [
    "wavelength"
   ]
  },
  {
   "cell_type": "code",
   "execution_count": 11,
   "metadata": {
    "collapsed": false
   },
   "outputs": [
    {
     "name": "stdout",
     "output_type": "stream",
     "text": [
      "Wavelength and Flux arrays match\n"
     ]
    }
   ],
   "source": [
    "if n == len(wavelength):\n",
    "    print(\"Wavelength and Flux arrays match\")\n",
    "else: \n",
    "    print(\"Warning! Something is wrong with the Wavelength array\")"
   ]
  },
  {
   "cell_type": "markdown",
   "metadata": {},
   "source": [
    "Yup. Now for the flux: "
   ]
  },
  {
   "cell_type": "code",
   "execution_count": 12,
   "metadata": {
    "collapsed": false
   },
   "outputs": [],
   "source": [
    "flux = datafile[0].data"
   ]
  },
  {
   "cell_type": "code",
   "execution_count": 13,
   "metadata": {
    "collapsed": false
   },
   "outputs": [
    {
     "data": {
      "text/plain": [
       "'erg/cm2/s/A'"
      ]
     },
     "execution_count": 13,
     "metadata": {},
     "output_type": "execute_result"
    }
   ],
   "source": [
    "datafile[0].header[\"BUNIT\"]"
   ]
  },
  {
   "cell_type": "markdown",
   "metadata": {},
   "source": [
    "Now for the Error: "
   ]
  },
  {
   "cell_type": "code",
   "execution_count": 14,
   "metadata": {
    "collapsed": true
   },
   "outputs": [],
   "source": [
    "errorfile = fits.open('PKS1017-325_error_heliocorrect_galextinct.fits')"
   ]
  },
  {
   "cell_type": "code",
   "execution_count": 15,
   "metadata": {
    "collapsed": false
   },
   "outputs": [],
   "source": [
    "error = errorfile[0].data"
   ]
  },
  {
   "cell_type": "markdown",
   "metadata": {},
   "source": [
    "Let's quickly check that this looks good: "
   ]
  },
  {
   "cell_type": "code",
   "execution_count": 16,
   "metadata": {
    "collapsed": false
   },
   "outputs": [
    {
     "data": {
      "image/png": "[encoded data removed]",
      "text/plain": [
       "<matplotlib.figure.Figure at 0x1194a5b50>"
      ]
     },
     "metadata": {},
     "output_type": "display_data"
    }
   ],
   "source": [
    "fig, ax = plt.subplots()\n",
    "ax.set_xlim(3800, 9284)\n",
    "\n",
    "plt.plot(wavelength, flux)\n",
    "plt.show()"
   ]
  },
  {
   "cell_type": "markdown",
   "metadata": {},
   "source": [
    "### Build a PySpecKit Spectrum"
   ]
  },
  {
   "cell_type": "code",
   "execution_count": 17,
   "metadata": {
    "collapsed": false
   },
   "outputs": [
    {
     "name": "stderr",
     "output_type": "stream",
     "text": [
      "'erg/cm2/s/A' contains multiple slashes, which is discouraged by the FITS standard\n"
     ]
    }
   ],
   "source": [
    "sp = pyspeckit.Spectrum(data=flux, xarr=wavelength, error=error, unit='erg/s/cm^2/AA', xarrkwargs={'unit':'AA'},header=datafile[0].header)"
   ]
  },
  {
   "cell_type": "code",
   "execution_count": 18,
   "metadata": {
    "collapsed": false
   },
   "outputs": [
    {
     "data": {
      "image/png": "[encoded data removed]",
      "text/plain": [
       "<matplotlib.figure.Figure at 0x119530550>"
      ]
     },
     "metadata": {},
     "output_type": "display_data"
    }
   ],
   "source": [
    "sp.plotter(errstyle='fill')\n",
    "sp.plotter.axis.set_xlabel(r'Wavelength $(\\AA)$')\n",
    "sp.plotter.axis.set_ylabel(r'Flux $(10^{-17} \\mathrm{erg/s/cm^2/\\AA})$')\n",
    "sp.plotter.refresh()"
   ]
  },
  {
   "cell_type": "markdown",
   "metadata": {},
   "source": [
    "### Initial Redshift Guess\n",
    "\n",
    "#### The redshift of the source is about 0.3186. \n",
    "I know this because the lines were trivially identifiable by the spectrum. By eye, the [O III] 5007 line peak was at 6602 \\AA, corresponding to a (1+z) of (6602 / 5007) = 1.3186 (i.e., a z of 0.3186)."
   ]
  },
  {
   "cell_type": "markdown",
   "metadata": {},
   "source": [
    "We'll fit the [O III] and H$\\beta$ region, which is nice and clean and good for a redshift. Let's zoom in on it: "
   ]
  },
  {
   "cell_type": "code",
   "execution_count": 19,
   "metadata": {
    "collapsed": false
   },
   "outputs": [
    {
     "data": {
      "image/png": "[encoded data removed]",
      "text/plain": [
       "<matplotlib.figure.Figure at 0x1195ede50>"
      ]
     },
     "metadata": {},
     "output_type": "display_data"
    }
   ],
   "source": [
    "sp.plotter(xmin=6050, xmax=6750, errstyle='fill')\n",
    "sp.plotter.axis.set_xlabel(r'Wavelength $(\\AA)$')\n",
    "sp.plotter.axis.set_ylabel(r'Flux $(\\mathrm{erg/s/cm^2/\\AA})$')\n",
    "sp.plotter.refresh()"
   ]
  },
  {
   "cell_type": "markdown",
   "metadata": {},
   "source": [
    "Set rest wavelengths of the lines we know we're fitting: "
   ]
  },
  {
   "cell_type": "code",
   "execution_count": 20,
   "metadata": {
    "collapsed": false
   },
   "outputs": [],
   "source": [
    "# Clear line detections in this window, from blue to red: \n",
    "\n",
    "o3region_linewavs = {'HeII' : 4685.7,  \n",
    "                     'Hbeta' : 4861.34, \n",
    "                     'OIII4959' :4958.9,\n",
    "                     'OIII5007' : 5006.8\n",
    "                    }\n",
    "\n",
    "\n",
    "#o3region_linewavs = {  \n",
    "#                     'Hbeta' : 4861.34, \n",
    "#                     'OIII4959' :4958.9,\n",
    "#                     'OIII5007' : 5006.8\n",
    "#                    }\n"
   ]
  },
  {
   "cell_type": "markdown",
   "metadata": {},
   "source": [
    "By eye, I know the redshift is about z=0.31868"
   ]
  },
  {
   "cell_type": "code",
   "execution_count": 21,
   "metadata": {
    "collapsed": true
   },
   "outputs": [],
   "source": [
    "z_guess = 0.31868\n",
    "z_guess_factor = (1 + z_guess)"
   ]
  },
  {
   "cell_type": "markdown",
   "metadata": {},
   "source": [
    "I also know that the Gaussian FWHM of each of these four lines is about 15 angstroms"
   ]
  },
  {
   "cell_type": "code",
   "execution_count": 22,
   "metadata": {
    "collapsed": true
   },
   "outputs": [],
   "source": [
    "fwhm_guess = 15.\n",
    "\n",
    "# I just quickly estimated this in IRAF SPLOT.\n",
    "# I could also estimate this in python, with \n",
    "# width_guess = data.sum() / amplitude_guess / np.sqrt(2*np.pi)"
   ]
  },
  {
   "cell_type": "markdown",
   "metadata": {},
   "source": [
    "Let's estimate line amplitudes, and also make a dictionary of our redshifted lines (assuming our z_guess_factor)"
   ]
  },
  {
   "cell_type": "code",
   "execution_count": 23,
   "metadata": {
    "collapsed": false
   },
   "outputs": [
    {
     "data": {
      "text/plain": [
       "{'Hbeta': 6410.5518312,\n",
       " 'HeII': 6178.938876,\n",
       " 'OIII4959': 6539.202252,\n",
       " 'OIII5007': 6602.367024000001}"
      ]
     },
     "execution_count": 23,
     "metadata": {},
     "output_type": "execute_result"
    }
   ],
   "source": [
    "o3region_amplitudes = {}\n",
    "for line in o3region_linewavs:\n",
    "    sp.specfit.selectregion(xmin = o3region_linewavs[line] *z_guess_factor - 30, xmax = o3region_linewavs[line]*z_guess_factor + 30)\n",
    "    amp = np.max(sp.data[sp.specfit.xmin:sp.specfit.xmax])\n",
    "    d = {line : amp}\n",
    "    o3region_amplitudes.update(d)\n",
    "    \n",
    "o3region_redshifted_lines = {}\n",
    "for line in o3region_linewavs:\n",
    "    redline = o3region_linewavs[line] * z_guess_factor\n",
    "    d = {line : redline}\n",
    "    o3region_redshifted_lines.update(d)    \n",
    "    \n",
    "\n",
    "o3region_redshifted_lines"
   ]
  },
  {
   "cell_type": "code",
   "execution_count": 24,
   "metadata": {
    "collapsed": false
   },
   "outputs": [
    {
     "data": {
      "text/plain": [
       "{'Hbeta': 1.7534279e-16,\n",
       " 'HeII': 7.6285825e-17,\n",
       " 'OIII4959': 3.7520897e-16,\n",
       " 'OIII5007': 1.0626776e-15}"
      ]
     },
     "execution_count": 24,
     "metadata": {},
     "output_type": "execute_result"
    }
   ],
   "source": [
    "o3region_amplitudes"
   ]
  },
  {
   "cell_type": "code",
   "execution_count": 25,
   "metadata": {
    "collapsed": false
   },
   "outputs": [
    {
     "data": {
      "text/plain": [
       "{'Hbeta': 4861.34, 'HeII': 4685.7, 'OIII4959': 4958.9, 'OIII5007': 5006.8}"
      ]
     },
     "execution_count": 25,
     "metadata": {},
     "output_type": "execute_result"
    }
   ],
   "source": [
    "o3region_linewavs"
   ]
  },
  {
   "cell_type": "markdown",
   "metadata": {},
   "source": [
    "#### Make an inititial fit with guesses"
   ]
  },
  {
   "cell_type": "markdown",
   "metadata": {},
   "source": [
    "Guesses should be constructed as: \n",
    "\n",
    "```python\n",
    "guesses = [ AMPLITUDE_GUESS, CENTER_GUESS, WIDTH_GUESS,\n",
    "            AMPLITUDE_GUESS, CENTER_GUESS, WIDTH_GUESS,]\n",
    "```\n",
    "and so on. One line for each gaussian you want to fit. Guesses should take the format of: \n",
    "\n",
    "```python\n",
    "guesses = [amplitude_guess, center_guess, width_guess]\n",
    "```\n",
    "Multiple components are strung along in one list, e.g. \n",
    "```python\n",
    "guesses = [amplitude, center, width,            # i.e. [amp, center, width] of gaussian 1\n",
    "           amplitude, center, width,            # ... guassian 2\n",
    "           amplitude, center, width]            # ... gaussian 3 (and so on...)\n",
    "```"
   ]
  },
  {
   "cell_type": "code",
   "execution_count": 26,
   "metadata": {
    "collapsed": false
   },
   "outputs": [
    {
     "name": "stdout",
     "output_type": "stream",
     "text": [
      "Hbeta\n",
      "[1.7534279e-16, 6410.5518312, 15.0]\n",
      "HeII\n",
      "[7.6285825e-17, 6178.938876, 15.0]\n",
      "OIII4959\n",
      "[3.7520897e-16, 6539.202252, 15.0]\n",
      "OIII5007\n",
      "[1.0626776e-15, 6602.367024000001, 15.0]\n"
     ]
    },
    {
     "data": {
      "text/plain": [
       "[1.7534279e-16,\n",
       " 6410.5518312,\n",
       " 15.0,\n",
       " 7.6285825e-17,\n",
       " 6178.938876,\n",
       " 15.0,\n",
       " 3.7520897e-16,\n",
       " 6539.202252,\n",
       " 15.0,\n",
       " 1.0626776e-15,\n",
       " 6602.367024000001,\n",
       " 15.0]"
      ]
     },
     "execution_count": 26,
     "metadata": {},
     "output_type": "execute_result"
    }
   ],
   "source": [
    "guesses = []\n",
    "# Remember, dictonaries aren't ordered. Force it to be with sorted() so that we go blue --> red\n",
    "for line in sorted(o3region_linewavs):\n",
    "    guess = [o3region_amplitudes[line], o3region_redshifted_lines[line], fwhm_guess]\n",
    "    print(line)\n",
    "    print(guess)\n",
    "    guesses += guess\n",
    "    \n",
    "guesses"
   ]
  },
  {
   "cell_type": "code",
   "execution_count": null,
   "metadata": {
    "collapsed": true
   },
   "outputs": [],
   "source": []
  },
  {
   "cell_type": "code",
   "execution_count": 27,
   "metadata": {
    "collapsed": false
   },
   "outputs": [
    {
     "data": {
      "text/plain": [
       "[1.7534279e-16,\n",
       " 6410.5518312,\n",
       " 15.0,\n",
       " 7.6285825e-17,\n",
       " 6178.938876,\n",
       " 15.0,\n",
       " 3.7520897e-16,\n",
       " 6539.202252,\n",
       " 15.0,\n",
       " 1.0626776e-15,\n",
       " 6602.367024000001,\n",
       " 15.0]"
      ]
     },
     "execution_count": 27,
     "metadata": {},
     "output_type": "execute_result"
    }
   ],
   "source": [
    "guesses"
   ]
  },
  {
   "cell_type": "markdown",
   "metadata": {},
   "source": [
    "#### We could make a baseline, if we wanted to, i.e. with"
   ]
  },
  {
   "cell_type": "code",
   "execution_count": 42,
   "metadata": {
    "collapsed": true
   },
   "outputs": [],
   "source": [
    "\n",
    "linemask = []\n",
    "for line in o3region_linewavs:\n",
    "    xmin = o3region_linewavs[line] - 30.0\n",
    "    xmax = o3region_linewavs[line] + 30.0\n",
    "    mask = [xmin, xmax]\n",
    "    linemask += mask\n",
    "    \n",
    "linemask\n",
    "\n",
    "# Then fit baseline with\n",
    "sp.baseline(xmin=6050, xmax=6750, exclude=linemask, subtract=False, reset_selection=False, highlight_fitregion=True, order=1)"
   ]
  },
  {
   "cell_type": "code",
   "execution_count": 43,
   "metadata": {
    "collapsed": false
   },
   "outputs": [
    {
     "data": {
      "image/png": "[encoded data removed]",
      "text/plain": [
       "<matplotlib.figure.Figure at 0x11aa188d0>"
      ]
     },
     "metadata": {},
     "output_type": "display_data"
    }
   ],
   "source": [
    "sp.plotter(xmin=6050, xmax=6750)\n",
    "sp.baseline.plot_baseline()"
   ]
  },
  {
   "cell_type": "markdown",
   "metadata": {},
   "source": [
    "### Do the fit"
   ]
  },
  {
   "cell_type": "code",
   "execution_count": 30,
   "metadata": {
    "collapsed": false
   },
   "outputs": [
    {
     "name": "stdout",
     "output_type": "stream",
     "text": [
      "INFO: Setting xmin,xmax from keywords 6100,6700 [pyspeckit.spectrum.interactive]\n",
      "INFO: Renormalizing data by factor 2.659601e-17 to improve fitting procedure [pyspeckit.spectrum.fitters]\n",
      "Param #0   AMPLITUDE0 =     1.26e-16 +/-      1.1403e-18 \n",
      "Param #1       SHIFT0 =      6412.42 +/-       0.0507781 \n",
      "Param #2       WIDTH0 =      5.44295 +/-       0.0466898   Range:   [0,inf)\n",
      "Param #3   AMPLITUDE1 =   2.0289e-33 +/-               0 \n",
      "Param #4       SHIFT1 =      6178.94 +/-               0 \n",
      "Param #5       WIDTH1 =           15 +/-               0   Range:   [0,inf)\n",
      "Param #6   AMPLITUDE2 =  9.97906e-33 +/-               0 \n",
      "Param #7       SHIFT2 =       6539.2 +/-               0 \n",
      "Param #8       WIDTH2 =           15 +/-               0   Range:   [0,inf)\n",
      "Param #9   AMPLITUDE3 =   2.8263e-32 +/-               0 \n",
      "Param #10       SHIFT3 =      6602.37 +/-               0 \n",
      "Param #11       WIDTH3 =           15 +/-               0   Range:   [0,inf)\n",
      "Param #0   AMPLITUDE0 =     1.26e-16 +/-      1.1403e-18 \n",
      "Param #1       SHIFT0 =      6412.42 +/-       0.0507781 \n",
      "Param #2       WIDTH0 =      5.44295 +/-       0.0466898   Range:   [0,inf)\n",
      "Param #3   AMPLITUDE1 =   2.0289e-33 +/-               0 \n",
      "Param #4       SHIFT1 =         6178 +/-               0   Range:[6150,6200]\n",
      "Param #5       WIDTH1 =            5 +/-               0   Range:   [0,inf)\n",
      "Param #6   AMPLITUDE2 =  9.97906e-33 +/-               0 \n",
      "Param #7       SHIFT2 =       6539.2 +/-               0 \n",
      "Param #8       WIDTH2 =           15 +/-               0   Range:   [0,inf)\n",
      "Param #9   AMPLITUDE3 =   2.8263e-32 +/-               0 \n",
      "Param #10       SHIFT3 =      6602.37 +/-               0 \n",
      "Param #11       WIDTH3 =           15 +/-               0   Range:   [0,inf)\n",
      "INFO: Setting xmin,xmax from keywords 6100,6700 [pyspeckit.spectrum.interactive]\n",
      "INFO: Renormalizing data by factor 2.659601e-17 to improve fitting procedure [pyspeckit.spectrum.fitters]\n"
     ]
    },
    {
     "name": "stderr",
     "output_type": "stream",
     "text": [
      "WARNING: gnorm=0.   wa2=[ 0.  0.  0.  0.  0.  0.  0.  0.  0.  0.  0.  0.] [pyspeckit.mpfit.mpfit]\n"
     ]
    },
    {
     "name": "stdout",
     "output_type": "stream",
     "text": [
      "Param #0   AMPLITUDE0 =   3.3511e-33 +/-               0 \n",
      "Param #1       SHIFT0 =      6412.42 +/-               0 \n",
      "Param #2       WIDTH0 =      5.44295 +/-               0   Range:   [0,inf)\n",
      "Param #3   AMPLITUDE1 =  5.39606e-50 +/-               0 \n",
      "Param #4       SHIFT1 =         6178 +/-               0   Range:[6150,6200]\n",
      "Param #5       WIDTH1 =            5 +/-               0   Range:   [0,inf)\n",
      "Param #6   AMPLITUDE2 =  2.65403e-49 +/-               0 \n",
      "Param #7       SHIFT2 =       6539.2 +/-               0 \n",
      "Param #8       WIDTH2 =           15 +/-               0   Range:   [0,inf)\n",
      "Param #9   AMPLITUDE3 =  7.51682e-49 +/-               0 \n",
      "Param #10       SHIFT3 =      6602.37 +/-               0 \n",
      "Param #11       WIDTH3 =           15 +/-               0   Range:   [0,inf)\n"
     ]
    },
    {
     "data": {
      "image/png": "[encoded data removed]",
      "text/plain": [
       "<matplotlib.figure.Figure at 0x119e5db10>"
      ]
     },
     "metadata": {},
     "output_type": "display_data"
    }
   ],
   "source": [
    "sp.plotter()\n",
    "sp.specfit(guesses=list(guesses), fittype='gaussian', xmin=6100, xmax=6700)\n",
    "print(sp.specfit.parinfo)\n",
    "sp.specfit.parinfo['SHIFT1'].value = 6178\n",
    "sp.specfit.parinfo['SHIFT1'].limited = (True,True)\n",
    "sp.specfit.parinfo['SHIFT1'].limits = (6150, 6200)\n",
    "sp.specfit.parinfo['WIDTH1'].value = 5\n",
    "print(sp.specfit.parinfo)\n",
    "sp.specfit(parinfo=sp.specfit.parinfo, fittype='gaussian', xmin=6100, xmax=6700, guesses=None)\n",
    "print(sp.specfit.parinfo)"
   ]
  },
  {
   "cell_type": "code",
   "execution_count": 47,
   "metadata": {
    "collapsed": false
   },
   "outputs": [
    {
     "name": "stdout",
     "output_type": "stream",
     "text": [
      "INFO: Renormalizing data by factor 2.659601e-17 to improve fitting procedure [pyspeckit.spectrum.fitters]\n",
      "Baseline: -2.16646e-17 x^0 +  2.10285e-20 x^1\n",
      "     AMPLITUDE0:     1.26e-16 +/-   1.1403e-18\n",
      "         SHIFT0:      6412.42 +/-    0.0507779\n",
      "         WIDTH0:      5.44295 +/-    0.0466896\n",
      "     AMPLITUDE1:  3.50135e-17 +/-  1.01419e-18\n",
      "         SHIFT1:      6178.03 +/-     0.143407\n",
      "         WIDTH1:      4.61967 +/-     0.139553\n",
      "     AMPLITUDE2:  3.13306e-16 +/-  1.60673e-18\n",
      "         SHIFT2:      6541.79 +/-    0.0304819\n",
      "         WIDTH2:      6.26901 +/-    0.0260997\n",
      "     AMPLITUDE3:  8.88908e-16 +/-  2.62659e-18\n",
      "         SHIFT3:      6605.14 +/-    0.0167903\n",
      "         WIDTH3:      6.71432 +/-    0.0134238\n"
     ]
    },
    {
     "data": {
      "image/png": "[encoded data removed]",
      "text/plain": [
       "<matplotlib.figure.Figure at 0x11ba87290>"
      ]
     },
     "metadata": {},
     "output_type": "display_data"
    }
   ],
   "source": [
    "sp.plotter()\n",
    "sp.specfit(guesses=list(guesses), fittype='gaussian', annotate=False)\n",
    "#sp.specfit.annotate(chi2='optimal')\n",
    "sp.specfit.print_fit()"
   ]
  },
  {
   "cell_type": "code",
   "execution_count": 64,
   "metadata": {
    "collapsed": false
   },
   "outputs": [
    {
     "data": {
      "image/png": "[encoded data removed]",
      "text/plain": [
       "<matplotlib.figure.Figure at 0x11cbc4290>"
      ]
     },
     "metadata": {},
     "output_type": "display_data"
    }
   ],
   "source": [
    "sp.plotter(xmin=6050, xmax=6750, ymin=-0.05e-15, ymax=1.15e-15, errstyle='fill')\n",
    "sp.specfit.plot_fit(annotate=False, lw=1.5, composite_fit_color='blue', )\n",
    "sp.specfit.plot_components(add_baseline=True,component_yoffset=-4.0, component_fit_color='blue')\n",
    "sp.specfit.plotresiduals(axis=sp.plotter.axis,clear=False,yoffset=0,label=False, color='orange')\n",
    "sp.plotter.savefig(\"working.pdf\")"
   ]
  },
  {
   "cell_type": "code",
   "execution_count": 75,
   "metadata": {
    "collapsed": false
   },
   "outputs": [
    {
     "data": {
      "text/plain": [
       "1.2600025595445913e-16"
      ]
     },
     "execution_count": 75,
     "metadata": {},
     "output_type": "execute_result"
    }
   ],
   "source": [
    "# Get parameters from the fit like this\n",
    "sp.specfit.parinfo.AMPLITUDE0.value"
   ]
  },
  {
   "cell_type": "code",
   "execution_count": 80,
   "metadata": {
    "collapsed": false
   },
   "outputs": [
    {
     "data": {
      "text/plain": [
       "{'Hbeta': 6178.0287676496646,\n",
       " 'HeII': 6412.4159886362795,\n",
       " 'OIII4959': 6541.7933046123926,\n",
       " 'OIII5007': 6605.1377012490993}"
      ]
     },
     "execution_count": 80,
     "metadata": {},
     "output_type": "execute_result"
    }
   ],
   "source": [
    "actual_linewavs = {'HeII' : sp.specfit.parinfo.SHIFT0.value, \n",
    "                   'Hbeta' : sp.specfit.parinfo.SHIFT1.value, \n",
    "                   'OIII4959' : sp.specfit.parinfo.SHIFT2.value,\n",
    "                   'OIII5007' : sp.specfit.parinfo.SHIFT3.value}\n",
    " \n",
    "    \n",
    "actual_linewavs"
   ]
  },
  {
   "cell_type": "markdown",
   "metadata": {},
   "source": [
    "### These line centers are fully consistent with IRAF's fit, too"
   ]
  },
  {
   "cell_type": "code",
   "execution_count": 100,
   "metadata": {
    "collapsed": false
   },
   "outputs": [
    {
     "name": "stdout",
     "output_type": "stream",
     "text": [
      "('OIII5007', 0.31923338284914493)\n",
      "('Hbeta', 0.27084893622944795)\n",
      "('OIII4959', 0.31920250551783513)\n",
      "('HeII', 0.3685075844881831)\n"
     ]
    }
   ],
   "source": [
    "for line in o3region_linewavs:\n",
    "    z = (actual_linewavs[line] / o3region_linewavs[line]) - 1\n",
    "    print(line, z)\n"
   ]
  },
  {
   "cell_type": "code",
   "execution_count": 91,
   "metadata": {
    "collapsed": false
   },
   "outputs": [
    {
     "data": {
      "text/plain": [
       "0.3685075844881831"
      ]
     },
     "execution_count": 91,
     "metadata": {},
     "output_type": "execute_result"
    }
   ],
   "source": [
    "(actual_linewavs['HeII'] / o3region_linewavs['HeII']) - 1"
   ]
  },
  {
   "cell_type": "code",
   "execution_count": 92,
   "metadata": {
    "collapsed": false
   },
   "outputs": [
    {
     "data": {
      "text/plain": [
       "0.27084893622944795"
      ]
     },
     "execution_count": 92,
     "metadata": {},
     "output_type": "execute_result"
    }
   ],
   "source": [
    "(actual_linewavs['Hbeta'] / o3region_linewavs['Hbeta']) - 1"
   ]
  },
  {
   "cell_type": "code",
   "execution_count": null,
   "metadata": {
    "collapsed": true
   },
   "outputs": [],
   "source": []
  }
 ],
 "metadata": {
  "anaconda-cloud": {},
  "kernelspec": {
   "display_name": "Python 2",
   "language": "python",
   "name": "python2"
  },
  "language_info": {
   "codemirror_mode": {
    "name": "ipython",
    "version": 2
   },
   "file_extension": ".py",
   "mimetype": "text/x-python",
   "name": "python",
   "nbconvert_exporter": "python",
   "pygments_lexer": "ipython2",
   "version": "2.7.13"
  }
 },
 "nbformat": 4,
 "nbformat_minor": 1
}
